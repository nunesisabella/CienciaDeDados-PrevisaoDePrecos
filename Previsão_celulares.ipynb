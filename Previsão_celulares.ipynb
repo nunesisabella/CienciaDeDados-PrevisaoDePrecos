{
 "cells": [
  {
   "cell_type": "markdown",
   "id": "4328f12f",
   "metadata": {},
   "source": [
    "## Ciência de dados - privisão de preços"
   ]
  },
  {
   "cell_type": "markdown",
   "id": "c2773aa6",
   "metadata": {},
   "source": [
    "O objetivo desse notebook é prever o preço de celulares baseados nas características do celular como: peso (g),  pixels por polegada (PPI), processador (GHz), memoria interna (GB), pixels da câmera traseira (MP), bateria (mpA) e espessura (mm)."
   ]
  },
  {
   "cell_type": "code",
   "execution_count": 63,
   "id": "4b70fef1",
   "metadata": {},
   "outputs": [],
   "source": [
    "import pandas as pd\n",
    "import seaborn as sns\n",
    "import matplotlib.pyplot as plt\n",
    "from sklearn.model_selection import train_test_split\n",
    "from sklearn.linear_model import LinearRegression\n",
    "from sklearn.ensemble import RandomForestRegressor\n",
    "from sklearn.metrics import r2_score"
   ]
  },
  {
   "cell_type": "code",
   "execution_count": 64,
   "id": "afa530ce",
   "metadata": {},
   "outputs": [
    {
     "data": {
      "text/html": [
       "<div>\n",
       "<style scoped>\n",
       "    .dataframe tbody tr th:only-of-type {\n",
       "        vertical-align: middle;\n",
       "    }\n",
       "\n",
       "    .dataframe tbody tr th {\n",
       "        vertical-align: top;\n",
       "    }\n",
       "\n",
       "    .dataframe thead th {\n",
       "        text-align: right;\n",
       "    }\n",
       "</style>\n",
       "<table border=\"1\" class=\"dataframe\">\n",
       "  <thead>\n",
       "    <tr style=\"text-align: right;\">\n",
       "      <th></th>\n",
       "      <th>Valor</th>\n",
       "      <th>Peso</th>\n",
       "      <th>PPI</th>\n",
       "      <th>CPU Freq</th>\n",
       "      <th>M. Interna</th>\n",
       "      <th>C. Traseira</th>\n",
       "      <th>Bateria</th>\n",
       "      <th>Espessura</th>\n",
       "    </tr>\n",
       "  </thead>\n",
       "  <tbody>\n",
       "    <tr>\n",
       "      <th>148</th>\n",
       "      <td>3551</td>\n",
       "      <td>178.0</td>\n",
       "      <td>538</td>\n",
       "      <td>1.875</td>\n",
       "      <td>128.0</td>\n",
       "      <td>12.0</td>\n",
       "      <td>4080</td>\n",
       "      <td>8.4</td>\n",
       "    </tr>\n",
       "    <tr>\n",
       "      <th>149</th>\n",
       "      <td>3211</td>\n",
       "      <td>170.0</td>\n",
       "      <td>534</td>\n",
       "      <td>1.975</td>\n",
       "      <td>128.0</td>\n",
       "      <td>20.0</td>\n",
       "      <td>3400</td>\n",
       "      <td>7.9</td>\n",
       "    </tr>\n",
       "    <tr>\n",
       "      <th>150</th>\n",
       "      <td>3260</td>\n",
       "      <td>150.0</td>\n",
       "      <td>401</td>\n",
       "      <td>2.200</td>\n",
       "      <td>64.0</td>\n",
       "      <td>20.0</td>\n",
       "      <td>3000</td>\n",
       "      <td>6.8</td>\n",
       "    </tr>\n",
       "    <tr>\n",
       "      <th>151</th>\n",
       "      <td>3211</td>\n",
       "      <td>170.0</td>\n",
       "      <td>534</td>\n",
       "      <td>1.975</td>\n",
       "      <td>128.0</td>\n",
       "      <td>20.0</td>\n",
       "      <td>3400</td>\n",
       "      <td>7.9</td>\n",
       "    </tr>\n",
       "    <tr>\n",
       "      <th>152</th>\n",
       "      <td>2536</td>\n",
       "      <td>202.0</td>\n",
       "      <td>367</td>\n",
       "      <td>1.500</td>\n",
       "      <td>16.0</td>\n",
       "      <td>21.5</td>\n",
       "      <td>2700</td>\n",
       "      <td>8.4</td>\n",
       "    </tr>\n",
       "  </tbody>\n",
       "</table>\n",
       "</div>"
      ],
      "text/plain": [
       "     Valor   Peso  PPI  CPU Freq  M. Interna  C. Traseira  Bateria  Espessura\n",
       "148   3551  178.0  538     1.875       128.0         12.0     4080        8.4\n",
       "149   3211  170.0  534     1.975       128.0         20.0     3400        7.9\n",
       "150   3260  150.0  401     2.200        64.0         20.0     3000        6.8\n",
       "151   3211  170.0  534     1.975       128.0         20.0     3400        7.9\n",
       "152   2536  202.0  367     1.500        16.0         21.5     2700        8.4"
      ]
     },
     "execution_count": 64,
     "metadata": {},
     "output_type": "execute_result"
    }
   ],
   "source": [
    "# Importando a base de dados\n",
    "\n",
    "tabela = pd.read_csv('celular_train.csv', sep=\";\")\n",
    "tabela.tail(5)"
   ]
  },
  {
   "cell_type": "code",
   "execution_count": 65,
   "id": "cc2aa690",
   "metadata": {},
   "outputs": [
    {
     "name": "stdout",
     "output_type": "stream",
     "text": [
      "<class 'pandas.core.frame.DataFrame'>\n",
      "RangeIndex: 153 entries, 0 to 152\n",
      "Data columns (total 8 columns):\n",
      " #   Column       Non-Null Count  Dtype  \n",
      "---  ------       --------------  -----  \n",
      " 0   Valor        153 non-null    int64  \n",
      " 1   Peso         153 non-null    float64\n",
      " 2   PPI          153 non-null    int64  \n",
      " 3   CPU Freq     153 non-null    float64\n",
      " 4   M. Interna   153 non-null    float64\n",
      " 5   C. Traseira  153 non-null    float64\n",
      " 6   Bateria      153 non-null    int64  \n",
      " 7   Espessura    153 non-null    float64\n",
      "dtypes: float64(5), int64(3)\n",
      "memory usage: 9.7 KB\n"
     ]
    }
   ],
   "source": [
    "# Analisando a estrutura da base de dados\n",
    "\n",
    "tabela.info()"
   ]
  },
  {
   "cell_type": "code",
   "execution_count": 66,
   "id": "458412ae",
   "metadata": {},
   "outputs": [
    {
     "data": {
      "text/html": [
       "<div>\n",
       "<style scoped>\n",
       "    .dataframe tbody tr th:only-of-type {\n",
       "        vertical-align: middle;\n",
       "    }\n",
       "\n",
       "    .dataframe tbody tr th {\n",
       "        vertical-align: top;\n",
       "    }\n",
       "\n",
       "    .dataframe thead th {\n",
       "        text-align: right;\n",
       "    }\n",
       "</style>\n",
       "<table border=\"1\" class=\"dataframe\">\n",
       "  <thead>\n",
       "    <tr style=\"text-align: right;\">\n",
       "      <th></th>\n",
       "      <th>Valor</th>\n",
       "    </tr>\n",
       "  </thead>\n",
       "  <tbody>\n",
       "    <tr>\n",
       "      <th>Peso</th>\n",
       "      <td>0.053859</td>\n",
       "    </tr>\n",
       "    <tr>\n",
       "      <th>PPI</th>\n",
       "      <td>0.790471</td>\n",
       "    </tr>\n",
       "    <tr>\n",
       "      <th>CPU Freq</th>\n",
       "      <td>0.597533</td>\n",
       "    </tr>\n",
       "    <tr>\n",
       "      <th>M. Interna</th>\n",
       "      <td>0.787928</td>\n",
       "    </tr>\n",
       "    <tr>\n",
       "      <th>C. Traseira</th>\n",
       "      <td>0.686975</td>\n",
       "    </tr>\n",
       "    <tr>\n",
       "      <th>Bateria</th>\n",
       "      <td>0.486570</td>\n",
       "    </tr>\n",
       "    <tr>\n",
       "      <th>Espessura</th>\n",
       "      <td>-0.645850</td>\n",
       "    </tr>\n",
       "  </tbody>\n",
       "</table>\n",
       "</div>"
      ],
      "text/plain": [
       "                Valor\n",
       "Peso         0.053859\n",
       "PPI          0.790471\n",
       "CPU Freq     0.597533\n",
       "M. Interna   0.787928\n",
       "C. Traseira  0.686975\n",
       "Bateria      0.486570\n",
       "Espessura   -0.645850"
      ]
     },
     "metadata": {},
     "output_type": "display_data"
    }
   ],
   "source": [
    "# Calculando a correlação\n",
    "\n",
    "display(tabela.corr()[[\"Valor\"]].drop(\"Valor\", axis=0))# correlação (influencia) de cada componente com o valor final do celular"
   ]
  },
  {
   "cell_type": "code",
   "execution_count": 67,
   "id": "4d124575",
   "metadata": {},
   "outputs": [
    {
     "data": {
      "text/plain": [
       "<AxesSubplot:>"
      ]
     },
     "execution_count": 67,
     "metadata": {},
     "output_type": "execute_result"
    },
    {
     "data": {
      "image/png": "[encoded data removed]",
      "text/plain": [
       "<Figure size 432x288 with 2 Axes>"
      ]
     },
     "metadata": {
      "needs_background": "light"
     },
     "output_type": "display_data"
    }
   ],
   "source": [
    "# Análise Gráfica da correlação\n",
    "\n",
    "sns.heatmap(tabela.corr()[[\"Valor\"]].drop(\"Valor\", axis=0), cmap=\"Greens\", annot=True)"
   ]
  },
  {
   "cell_type": "code",
   "execution_count": 68,
   "id": "f6c5a3a9",
   "metadata": {},
   "outputs": [],
   "source": [
    "# Separando a base em dados de X e Y\n",
    "\n",
    "y = tabela[\"Valor\"]\n",
    "x = tabela.drop(\"Valor\", axis=1)\n",
    "\n",
    "x_treino, x_teste, y_treino, y_teste = train_test_split(x, y, test_size=0.3)"
   ]
  },
  {
   "cell_type": "code",
   "execution_count": 69,
   "id": "e27de6c0",
   "metadata": {},
   "outputs": [
    {
     "data": {
      "text/plain": [
       "RandomForestRegressor()"
      ]
     },
     "execution_count": 69,
     "metadata": {},
     "output_type": "execute_result"
    }
   ],
   "source": [
    "# Criando a inteligencia artificial\n",
    "regressaolinear = LinearRegression()\n",
    "arvoredecisao = RandomForestRegressor()\n",
    "\n",
    "# Treinando a inteligencia artificial\n",
    "regressaolinear.fit(x_treino, y_treino)\n",
    "arvoredecisao.fit(x_treino, y_treino)"
   ]
  },
  {
   "cell_type": "code",
   "execution_count": 70,
   "id": "1f503487",
   "metadata": {},
   "outputs": [
    {
     "name": "stdout",
     "output_type": "stream",
     "text": [
      "0.8585943863770685\n",
      "0.9338757854402869\n"
     ]
    }
   ],
   "source": [
    "# Analisando a precisão de cada um dos modelos de inteligencia artificial\n",
    "\n",
    "previsao_regressaolinear = regressaolinear.predict(x_teste)\n",
    "previsao_arvoredecisao = arvoredecisao.predict(x_teste)\n",
    "\n",
    "print(r2_score(y_teste, previsao_regressaolinear))\n",
    "print(r2_score(y_teste, previsao_arvoredecisao))"
   ]
  },
  {
   "cell_type": "code",
   "execution_count": 73,
   "id": "8638c7ab",
   "metadata": {},
   "outputs": [
    {
     "data": {
      "image/png": "[encoded data removed]",
      "text/plain": [
       "<Figure size 432x288 with 1 Axes>"
      ]
     },
     "metadata": {
      "needs_background": "light"
     },
     "output_type": "display_data"
    }
   ],
   "source": [
    "# Análise gráfica da precisão\n",
    "\n",
    "tabela_aux = pd.DataFrame()\n",
    "tabela_aux['y_teste'] = y_teste\n",
    "tabela_aux['Previsões Árvore de Decisão'] = previsao_arvoredecisao\n",
    "tabela_aux['Previsões Regressão Linear'] = previsao_regressaolinear\n",
    "\n",
    "sns.lineplot(data=tabela_aux)\n",
    "plt.show()"
   ]
  },
  {
   "cell_type": "code",
   "execution_count": 80,
   "id": "0cebff94",
   "metadata": {},
   "outputs": [
    {
     "data": {
      "text/html": [
       "<div>\n",
       "<style scoped>\n",
       "    .dataframe tbody tr th:only-of-type {\n",
       "        vertical-align: middle;\n",
       "    }\n",
       "\n",
       "    .dataframe tbody tr th {\n",
       "        vertical-align: top;\n",
       "    }\n",
       "\n",
       "    .dataframe thead th {\n",
       "        text-align: right;\n",
       "    }\n",
       "</style>\n",
       "<table border=\"1\" class=\"dataframe\">\n",
       "  <thead>\n",
       "    <tr style=\"text-align: right;\">\n",
       "      <th></th>\n",
       "      <th>Peso</th>\n",
       "      <th>PPI</th>\n",
       "      <th>CPU Freq</th>\n",
       "      <th>M. Interna</th>\n",
       "      <th>C. Traseira</th>\n",
       "      <th>Bateria</th>\n",
       "      <th>Espessura</th>\n",
       "    </tr>\n",
       "  </thead>\n",
       "  <tbody>\n",
       "    <tr>\n",
       "      <th>0</th>\n",
       "      <td>125</td>\n",
       "      <td>510</td>\n",
       "      <td>2.4</td>\n",
       "      <td>32</td>\n",
       "      <td>11</td>\n",
       "      <td>3000</td>\n",
       "      <td>8.2</td>\n",
       "    </tr>\n",
       "    <tr>\n",
       "      <th>1</th>\n",
       "      <td>175</td>\n",
       "      <td>303</td>\n",
       "      <td>1.3</td>\n",
       "      <td>4</td>\n",
       "      <td>4</td>\n",
       "      <td>2100</td>\n",
       "      <td>11.2</td>\n",
       "    </tr>\n",
       "    <tr>\n",
       "      <th>2</th>\n",
       "      <td>152</td>\n",
       "      <td>400</td>\n",
       "      <td>2.0</td>\n",
       "      <td>16</td>\n",
       "      <td>8</td>\n",
       "      <td>3500</td>\n",
       "      <td>9.0</td>\n",
       "    </tr>\n",
       "  </tbody>\n",
       "</table>\n",
       "</div>"
      ],
      "text/plain": [
       "   Peso  PPI  CPU Freq  M. Interna  C. Traseira  Bateria  Espessura\n",
       "0   125  510       2.4          32           11     3000        8.2\n",
       "1   175  303       1.3           4            4     2100       11.2\n",
       "2   152  400       2.0          16            8     3500        9.0"
      ]
     },
     "metadata": {},
     "output_type": "display_data"
    },
    {
     "name": "stdout",
     "output_type": "stream",
     "text": [
      "Previsão dos valores dos novos celulares : [2906.92 1833.77 2420.54]\n"
     ]
    }
   ],
   "source": [
    "# Prevendo valores de outros celulares\n",
    "\n",
    "tabela_nova = pd.read_csv(\"celular_new.csv\", sep=\";\")\n",
    "display(tabela_nova)\n",
    "\n",
    "previsao = arvoredecisao.predict(tabela_nova)\n",
    "print(\"Previsão dos valores dos novos celulares :\", previsao)"
   ]
  }
 ],
 "metadata": {
  "kernelspec": {
   "display_name": "Python 3 (ipykernel)",
   "language": "python",
   "name": "python3"
  },
  "language_info": {
   "codemirror_mode": {
    "name": "ipython",
    "version": 3
   },
   "file_extension": ".py",
   "mimetype": "text/x-python",
   "name": "python",
   "nbconvert_exporter": "python",
   "pygments_lexer": "ipython3",
   "version": "3.9.12"
  }
 },
 "nbformat": 4,
 "nbformat_minor": 5
}
